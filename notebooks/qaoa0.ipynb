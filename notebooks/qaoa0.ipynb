{
 "cells": [
  {
   "cell_type": "code",
   "execution_count": 1,
   "id": "ac9e621a",
   "metadata": {},
   "outputs": [],
   "source": [
    "from qiskit.circuit import QuantumCircuit\n",
    "from qiskit.quantum_info import SparsePauliOp\n",
    "from qiskit.primitives import StatevectorSampler, StatevectorEstimator\n",
    "from qiskit.visualization import plot_histogram\n",
    "\n",
    "from scipy.optimize import minimize\n",
    "\n",
    "import pandas as pd\n",
    "import numpy as np"
   ]
  },
  {
   "cell_type": "markdown",
   "id": "fb98c185",
   "metadata": {},
   "source": [
    "<img src=\"../images/stock_prices.png\" alt=\"Alt text\" width=\"500\" height=\"300\">"
   ]
  },
  {
   "cell_type": "code",
   "execution_count": 2,
   "id": "8c151f87",
   "metadata": {},
   "outputs": [],
   "source": [
    "expected_value = [0.335649, 0.084554, 0.357477, 0.148336]\n",
    "cov_matrix = pd.DataFrame([\n",
    "    [0.001077, 0.000257,0.000320,0.000190],\n",
    "    [0.000257,\t0.000441,0.000228,0.000084],\n",
    "    [0.000320,\t0.000228, 0.000867,0.000154],\n",
    "    [0.000190,\t0.000084,0.000154,0.000420]\n",
    "])\n",
    "\n",
    "n_assets = len(expected_value)"
   ]
  },
  {
   "cell_type": "markdown",
   "id": "a92ddd7f",
   "metadata": {},
   "source": [
    "We define a cost function $C$ that we aim to minimize in order to determine the optimal portfolio of assets. The input to this function is a binary vector $x$, where an asset $i$ is included in the portfolio if and only if $x_i=1$. Structuring the problem this way transforms it into a QUBO (Quadratic Unconstrained Binary Optimization) problem.\n",
    "\n",
    "Below, we present an analytical derivation of the Hamiltonian that represents this QUBO problem, establishing a correspondence between the QUBO formulation and the Ising model. This derivation provides the foundation for implementing the *f_wheight* function defined below, simplifying its definition and computation.\n",
    "\n",
    "## Variables and Parameters:\n",
    "- $r$: The expected return for each asset, represented by the variable *expected_value* computed above.\n",
    "- $C$: The covariance matrix of asset returns, represented by the variable *covariance_matrix* computed above.\n",
    "- $q$: The risk factor, balancing the trade-off between risk and return.\n",
    "- $B$ The constraint on the total number of assets in the optimal portfolio.\n",
    "- $\\lambda$: A regularization parameter enforcing the constraint on the portfolio size.\n",
    "\n",
    "## Cost function\n",
    "The cost function is given by:\n",
    "$$\n",
    "C(x) = -\\sum_i r_i x_i + q \\sum_{i>j} C_{ij} x_i x_j + \\lambda (B - \\sum_i x_i)^2\n",
    "$$\n",
    "\n",
    "## Calculations\n",
    "\n",
    "$\\lambda (B - \\sum_i x_i)^2 = \\lambda B^2 - 2\\lambda B \\sum_i x_i + \\lambda \\sum_i x_i^2 + 2\\lambda \\sum_{i>j} x_ix_j$\n",
    "\n",
    "Since $x_i \\in \\{0,1\\}$, $x_i^2=x_i$, then:\n",
    "\n",
    "$\\lambda (B - \\sum_i x_i)^2 = \\lambda B^2 - \\lambda (2B - 1) \\sum_i x_i + 2\\lambda \\sum_{i>j} x_ix_j$\n",
    "\n",
    "$$\n",
    "C(x) = -\\sum_i [r_i + \\lambda (2B-1)]x_i + \\sum_{i>j} (q C_{ij} + 2\\lambda)x_ix_j + \\lambda B^2\n",
    "$$\n",
    "\n",
    "Let defines the following variables for simplification:\n",
    "- $\\beta_i = r_i + \\lambda (2B-1)$\n",
    "- $\\gamma_{ij} = q C_{ij} + 2\\lambda$\n",
    "\n",
    "$$\n",
    "C(x) = -\\sum_i \\beta_i x_i + \\sum_{i>j} \\gamma_{ij} x_ix_j + \\lambda B^2\n",
    "$$\n",
    "\n",
    "To map the coust function $C$ to Hamiltonian formulation $H$, we transform $x_i \\to (I-Z_i)/2$, which implies $x_ix_j \\to (I-Z_i-Z_j+Z_iZ_j)/4$.\n",
    "\n",
    "$$\n",
    "H = \\sum_i \\left(\\dfrac{\\beta_i}{2}-\\dfrac{1}{4}\\sum_{j \\neq i}\\gamma_{ij}\\right)Z_i + \\sum_{i>j}\\dfrac{\\gamma_{ij}}{4}Z_iZ_j + \\text{const}\n",
    "$$\n",
    "\n",
    "We can discard the $\\text{const}$ therm, because this does not change the ground state of the Hamiltonian.\n",
    "\n",
    "$\\dfrac{\\beta_i}{2}-\\dfrac{1}{4}\\sum_{j \\neq i}\\gamma_{ij} = \\dfrac{r_i}{2} + \\lambda(B-n/2) - \\dfrac{q}{4}\\sum_{j \\neq i}C_{ij}$\n",
    "\n",
    "Here, $n$ is defined as the number of assets.\n",
    "\n",
    "We can multiply the Hamiltonian by a constant, because this does not change the ground state.\n",
    "\n",
    "$$\n",
    "H = \\sum_i \\left[2r_i + 2\\lambda(2B-n)-q\\sum_{j}C_{ij} \\right]Z_i + \\sum_{i>j}(qC_{ij}+2\\lambda)Z_iZ_j\n",
    "$$"
   ]
  },
  {
   "cell_type": "code",
   "execution_count": 3,
   "id": "8fbeb66b",
   "metadata": {},
   "outputs": [],
   "source": [
    "q = 0.5\n",
    "B = 2\n",
    "lamb = 1"
   ]
  },
  {
   "cell_type": "code",
   "execution_count": 4,
   "id": "a2af22bf",
   "metadata": {},
   "outputs": [],
   "source": [
    "def cost_hamiltonian_wheight(i, j=None):\n",
    "    \"\"\"\n",
    "    Calculate the weights for the Hamiltonian of the QUBO problem.\n",
    "\n",
    "    Args:\n",
    "        i (int): Index of the first asset.\n",
    "        j (int, optional): Index of the second asset. Defaults to None.\n",
    "        \n",
    "    Returns:\n",
    "        float: The weight that multiplies the product of the Z operators, acting on qubits i and j.\n",
    "    \"\"\"\n",
    "\n",
    "    if j is None:\n",
    "        response =2*expected_value[i]+2*lamb*(2*B-n_assets)-q*cov_matrix[i].sum()\n",
    "    else:\n",
    "        response = q*cov_matrix[i][j]+2*lamb\n",
    "    return response"
   ]
  },
  {
   "cell_type": "code",
   "execution_count": 5,
   "id": "1e229564",
   "metadata": {},
   "outputs": [
    {
     "data": {
      "text/plain": [
       "CircuitInstruction(operation=Instruction(name='barrier', num_qubits=4, num_clbits=0, params=[]), qubits=(<Qubit register=(4, \"q\"), index=0>, <Qubit register=(4, \"q\"), index=1>, <Qubit register=(4, \"q\"), index=2>, <Qubit register=(4, \"q\"), index=3>), clbits=())"
      ]
     },
     "execution_count": 5,
     "metadata": {},
     "output_type": "execute_result"
    }
   ],
   "source": [
    "qc = QuantumCircuit(n_assets, n_assets)\n",
    "\n",
    "for qubit in range(n_assets):\n",
    "    qc.h(qubit)\n",
    "qc.barrier()"
   ]
  },
  {
   "cell_type": "code",
   "execution_count": 6,
   "id": "85a20077",
   "metadata": {},
   "outputs": [],
   "source": [
    "def add_layer(qc, gamma, beta):\n",
    "    \"\"\"\n",
    "    Adds one QAOA layer to the circuit.\n",
    "    \n",
    "    This layer applies:\n",
    "        - Cost Hamiltonian: exp(-i*gamma*H_c) using CNOT and RZ gates.\n",
    "        - Mixing Hamiltonian: exp(-i*beta*H_B) using RX gates.\n",
    "    \n",
    "    Args:\n",
    "        gamma (float): Parameter for the cost Hamiltonian.\n",
    "        beta (float): Parameter for the mixing Hamiltonian.\n",
    "    \"\"\"\n",
    "    \n",
    "    q_graph = [(i, j) for i in range(n_assets) for j in range(i+1, n_assets)]\n",
    "    \n",
    "    # Implement exp(-i*gamma*H_c)\n",
    "    # H_c: Cost Hamiltonian\n",
    "    for e in q_graph:\n",
    "        qc.cx(e[0], e[1])\n",
    "        qc.rz(2*gamma*cost_hamiltonian_wheight(e[0], e[1]), e[1])\n",
    "        qc.cx(e[0], e[1])\n",
    "    for qubit in range(n_assets):\n",
    "        qc.rz(2*gamma*cost_hamiltonian_wheight(qubit), qubit)\n",
    "    qc.barrier()\n",
    "            \n",
    "    # Implement exp(-i*beta*H_B)\n",
    "    for qubit in range(n_assets):\n",
    "        qc.rx(2*beta, qubit)\n",
    "    qc.barrier()"
   ]
  }
 ],
 "metadata": {
  "kernelspec": {
   "display_name": "Python 3",
   "language": "python",
   "name": "python3"
  },
  "language_info": {
   "codemirror_mode": {
    "name": "ipython",
    "version": 3
   },
   "file_extension": ".py",
   "mimetype": "text/x-python",
   "name": "python",
   "nbconvert_exporter": "python",
   "pygments_lexer": "ipython3",
   "version": "3.10.17"
  }
 },
 "nbformat": 4,
 "nbformat_minor": 5
}
