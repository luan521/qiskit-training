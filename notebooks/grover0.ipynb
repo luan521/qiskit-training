{
 "cells": [
  {
   "cell_type": "code",
   "execution_count": null,
   "id": "82db3067",
   "metadata": {},
   "outputs": [],
   "source": [
    "from qiskit.circuit import QuantumCircuit\n",
    "from qiskit.circuit.library import GlobalPhaseGate, PhaseOracle\n",
    "from qiskit.quantum_info import Statevector\n",
    "from qiskit.primitives import StatevectorSampler\n",
    "from qiskit.visualization import array_to_latex, plot_histogram\n",
    "\n",
    "from sympy.parsing.sympy_parser import parse_expr\n",
    "from sympy.logic.inference import satisfiable\n",
    "\n",
    "import numpy as np"
   ]
  },
  {
   "cell_type": "markdown",
   "id": "8e567240",
   "metadata": {},
   "source": [
    "<img src=\"../images/grover.png\" alt=\"Alt text\" width=\"500\" height=\"400\">"
   ]
  },
  {
   "cell_type": "markdown",
   "id": "7fdcdc0e",
   "metadata": {},
   "source": [
    "<img src=\"../images/grover_geometric.png\" alt=\"Alt text\" width=\"250\" height=\"250\">"
   ]
  },
  {
   "cell_type": "markdown",
   "id": "0b03e436",
   "metadata": {},
   "source": [
    "## Phase oracle\n",
    "- [PhaseOracle](https://docs.quantum.ibm.com/api/qiskit/qiskit.circuit.library.PhaseOracle)"
   ]
  },
  {
   "cell_type": "code",
   "execution_count": null,
   "id": "4f8ec5f3",
   "metadata": {},
   "outputs": [],
   "source": [
    "expression = '(a | b) & (~a | c) & (~c | ~d) & (~b | d) & (~b | c)'\n",
    "#expression = '(a | b | c) & (~a | ~b) & (~a | ~c) & (~b | ~c)'"
   ]
  },
  {
   "cell_type": "markdown",
   "id": "31505145",
   "metadata": {},
   "source": [
    "## Phase\n",
    "- $\\ket{0} \\to \\ket{0}$\n",
    "- $\\ket{x} \\to -\\ket{x}$ for $x>0$"
   ]
  },
  {
   "cell_type": "code",
   "execution_count": null,
   "id": "4fcd5c5d",
   "metadata": {},
   "outputs": [],
   "source": []
  },
  {
   "cell_type": "markdown",
   "id": "f9df822a",
   "metadata": {},
   "source": [
    "## Grover"
   ]
  },
  {
   "cell_type": "code",
   "execution_count": null,
   "id": "24411657",
   "metadata": {},
   "outputs": [],
   "source": []
  },
  {
   "cell_type": "markdown",
   "id": "3aea1725",
   "metadata": {},
   "source": [
    "## Iterations"
   ]
  },
  {
   "cell_type": "markdown",
   "id": "2d0f78f3",
   "metadata": {},
   "source": [
    "<img src=\"../images/grover_performance.png\" alt=\"Alt text\" width=\"500\" height=\"250\">"
   ]
  },
  {
   "cell_type": "code",
   "execution_count": null,
   "id": "4295cfa3",
   "metadata": {},
   "outputs": [],
   "source": []
  }
 ],
 "metadata": {
  "kernelspec": {
   "display_name": "Python 3",
   "language": "python",
   "name": "python3"
  },
  "language_info": {
   "codemirror_mode": {
    "name": "ipython",
    "version": 3
   },
   "file_extension": ".py",
   "mimetype": "text/x-python",
   "name": "python",
   "nbconvert_exporter": "python",
   "pygments_lexer": "ipython3",
   "version": "3.10.17"
  }
 },
 "nbformat": 4,
 "nbformat_minor": 5
}
