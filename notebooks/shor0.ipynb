{
 "cells": [
  {
   "cell_type": "code",
   "execution_count": null,
   "id": "43f6be34",
   "metadata": {},
   "outputs": [],
   "source": [
    "from qiskit.circuit import QuantumCircuit\n",
    "from qiskit.quantum_info import Statevector\n",
    "from qiskit.visualization import plot_histogram\n",
    "\n",
    "import numpy as np"
   ]
  },
  {
   "cell_type": "markdown",
   "id": "a9f7580b",
   "metadata": {},
   "source": [
    "- [Learn Quantum Computing with Qiskit: Shor’s Algorithm. By Monit Sharma](https://medium.com/@_monitsharma/learn-quantum-computing-with-qiskit-shors-algorithm-971b3f6d8795)\n",
    "- [An Experimental Study of Shor's Factoring Algorithm on IBM Q.](https://arxiv.org/abs/1903.00768)\n",
    "\"They have factored 12,21 and 35 using something called the Kitaev approach. In Shor's algorithm, you perform the QFT in such a manner that the entire answer is given to you at once. However if you instead have a circuit where bit of the answer is given out one at a time, you can drastically reduce the number of required qubits. For example in this paper the number 15 is factored using only 5 qubits. Actually all experimental implementations of Shor's algorithm have been using the Kitaev approach, as otherwise far too many qubits are needed.\" [Link](https://quantumcomputing.stackexchange.com/questions/8326/is-it-possible-to-run-a-general-implementation-shors-algorithm-on-a-real-ibm-qu)"
   ]
  },
  {
   "cell_type": "markdown",
   "id": "e6bd08e2",
   "metadata": {},
   "source": [
    "### "
   ]
  },
  {
   "cell_type": "markdown",
   "id": "73a37864",
   "metadata": {},
   "source": [
    "## QFT"
   ]
  },
  {
   "cell_type": "markdown",
   "id": "7970bfb5",
   "metadata": {},
   "source": [
    "<img src=\"../images/qft.png\" alt=\"Alt text\" width=\"500\" height=\"250\">"
   ]
  },
  {
   "cell_type": "code",
   "execution_count": null,
   "id": "631719a3",
   "metadata": {},
   "outputs": [],
   "source": []
  },
  {
   "cell_type": "markdown",
   "id": "022f128b",
   "metadata": {},
   "source": [
    "## Find the order r"
   ]
  },
  {
   "cell_type": "markdown",
   "id": "98bf919f",
   "metadata": {},
   "source": [
    "- ***Aula 11***\n",
    "\n",
    "<img src=\"../images/qpe.png\" alt=\"Alt text\" width=\"500\" height=\"400\">"
   ]
  },
  {
   "cell_type": "markdown",
   "id": "52bf3e69",
   "metadata": {},
   "source": [
    "<img src=\"../images/u_shor.png\" alt=\"Alt text\" width=\"300\" height=\"100\">"
   ]
  },
  {
   "cell_type": "code",
   "execution_count": null,
   "id": "792a0018",
   "metadata": {},
   "outputs": [],
   "source": []
  }
 ],
 "metadata": {
  "kernelspec": {
   "display_name": "Python 3",
   "language": "python",
   "name": "python3"
  },
  "language_info": {
   "codemirror_mode": {
    "name": "ipython",
    "version": 3
   },
   "file_extension": ".py",
   "mimetype": "text/x-python",
   "name": "python",
   "nbconvert_exporter": "python",
   "pygments_lexer": "ipython3",
   "version": "3.10.17"
  }
 },
 "nbformat": 4,
 "nbformat_minor": 5
}
