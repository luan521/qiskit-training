{
 "cells": [
  {
   "cell_type": "code",
   "execution_count": null,
   "id": "82db3067",
   "metadata": {},
   "outputs": [],
   "source": [
    "from qiskit.circuit import QuantumCircuit\n",
    "from qiskit.circuit.library import GlobalPhaseGate\n",
    "from qiskit.quantum_info import Statevector\n",
    "from qiskit.visualization import array_to_latex\n",
    "\n",
    "import numpy as np"
   ]
  },
  {
   "cell_type": "markdown",
   "id": "31505145",
   "metadata": {},
   "source": [
    "## Phase\n",
    "- $\\ket{0} \\to \\ket{0}$\n",
    "- $\\ket{x} \\to -\\ket{x}$ for $x>0$"
   ]
  },
  {
   "cell_type": "code",
   "execution_count": null,
   "id": "1fcb4d49",
   "metadata": {},
   "outputs": [],
   "source": [
    "n_qubits = 4"
   ]
  },
  {
   "cell_type": "code",
   "execution_count": null,
   "id": "9bb1b81e",
   "metadata": {},
   "outputs": [
    {
     "data": {
      "image/png": "[encoded data removed]",
      "text/plain": [
       "<Figure size 538.33x367.889 with 1 Axes>"
      ]
     },
     "execution_count": 3,
     "metadata": {},
     "output_type": "execute_result"
    }
   ],
   "source": [
    "qc = QuantumCircuit(n_qubits)\n",
    "\n",
    "qc.x(range(n_qubits))  \n",
    "qc.h(n_qubits - 1)     \n",
    "qc.mcx(list(range(n_qubits - 1)), n_qubits - 1) \n",
    "qc.h(n_qubits - 1)     \n",
    "qc.x(range(n_qubits))\n",
    "qc.append(GlobalPhaseGate(np.pi), 0)\n",
    "\n",
    "qc.draw(\"mpl\")"
   ]
  },
  {
   "cell_type": "code",
   "execution_count": null,
   "id": "284c1832",
   "metadata": {},
   "outputs": [
    {
     "data": {
      "text/latex": [
       "$$\n",
       "\n",
       "\\begin{bmatrix}\n",
       "1 & 0 & 0 & 0 & 0 & 0 & 0 & 0 & 0 & 0 & 0 & 0 & 0 & 0 & 0 & 0  \\\\\n",
       " \\end{bmatrix}\n",
       "$$"
      ],
      "text/plain": [
       "<IPython.core.display.Latex object>"
      ]
     },
     "execution_count": 4,
     "metadata": {},
     "output_type": "execute_result"
    }
   ],
   "source": [
    "state = Statevector(qc)\n",
    "array_to_latex(state, max_size=20)"
   ]
  },
  {
   "cell_type": "code",
   "execution_count": null,
   "id": "04b92f13",
   "metadata": {},
   "outputs": [],
   "source": []
  }
 ],
 "metadata": {
  "kernelspec": {
   "display_name": "Python 3",
   "language": "python",
   "name": "python3"
  },
  "language_info": {
   "codemirror_mode": {
    "name": "ipython",
    "version": 3
   },
   "file_extension": ".py",
   "mimetype": "text/x-python",
   "name": "python",
   "nbconvert_exporter": "python",
   "pygments_lexer": "ipython3",
   "version": "3.10.17"
  }
 },
 "nbformat": 4,
 "nbformat_minor": 5
}
